{
 "cells": [
  {
   "cell_type": "code",
   "execution_count": 5,
   "metadata": {
    "colab": {
     "base_uri": "https://localhost:8080/"
    },
    "id": "ttLgv5QHa_K_",
    "outputId": "498315d4-f7dc-434e-e701-f07a55bf1498"
   },
   "outputs": [],
   "source": [
    "import pandas as pd\n",
    "import matplotlib.pyplot as plt\n",
    "from sklearn.model_selection import train_test_split\n",
    "from sklearn.tree import  DecisionTreeClassifier\n",
    "from sklearn import tree\n",
    "from sklearn.metrics import confusion_matrix, classification_report, accuracy_score\n",
    "from sklearn.preprocessing import StandardScaler"
   ]
  },
  {
   "cell_type": "code",
   "execution_count": 6,
   "metadata": {
    "id": "5jc4D6mUbeH0"
   },
   "outputs": [
    {
     "name": "stdout",
     "output_type": "stream",
     "text": [
      "Printing the first 20 tuples of the adult dataset:\n",
      "     age          workclass  fnlgwt      education  educationnum  \\\n",
      "0    39          State-gov   77516      Bachelors            13   \n",
      "1    50   Self-emp-not-inc   83311      Bachelors            13   \n",
      "2    38            Private  215646        HS-grad             9   \n",
      "3    53            Private  234721           11th             7   \n",
      "4    28            Private  338409      Bachelors            13   \n",
      "5    37            Private  284582        Masters            14   \n",
      "6    49            Private  160187            9th             5   \n",
      "7    52   Self-emp-not-inc  209642        HS-grad             9   \n",
      "8    31            Private   45781        Masters            14   \n",
      "9    42            Private  159449      Bachelors            13   \n",
      "10   37            Private  280464   Some-college            10   \n",
      "11   30          State-gov  141297      Bachelors            13   \n",
      "12   23            Private  122272      Bachelors            13   \n",
      "13   32            Private  205019     Assoc-acdm            12   \n",
      "14   40            Private  121772      Assoc-voc            11   \n",
      "15   34            Private  245487        7th-8th             4   \n",
      "16   25   Self-emp-not-inc  176756        HS-grad             9   \n",
      "17   32            Private  186824        HS-grad             9   \n",
      "18   38            Private   28887           11th             7   \n",
      "19   43   Self-emp-not-inc  292175        Masters            14   \n",
      "\n",
      "             maritalstatus          occupation    relationship  \\\n",
      "0            Never-married        Adm-clerical   Not-in-family   \n",
      "1       Married-civ-spouse     Exec-managerial         Husband   \n",
      "2                 Divorced   Handlers-cleaners   Not-in-family   \n",
      "3       Married-civ-spouse   Handlers-cleaners         Husband   \n",
      "4       Married-civ-spouse      Prof-specialty            Wife   \n",
      "5       Married-civ-spouse     Exec-managerial            Wife   \n",
      "6    Married-spouse-absent       Other-service   Not-in-family   \n",
      "7       Married-civ-spouse     Exec-managerial         Husband   \n",
      "8            Never-married      Prof-specialty   Not-in-family   \n",
      "9       Married-civ-spouse     Exec-managerial         Husband   \n",
      "10      Married-civ-spouse     Exec-managerial         Husband   \n",
      "11      Married-civ-spouse      Prof-specialty         Husband   \n",
      "12           Never-married        Adm-clerical       Own-child   \n",
      "13           Never-married               Sales   Not-in-family   \n",
      "14      Married-civ-spouse        Craft-repair         Husband   \n",
      "15      Married-civ-spouse    Transport-moving         Husband   \n",
      "16           Never-married     Farming-fishing       Own-child   \n",
      "17           Never-married   Machine-op-inspct       Unmarried   \n",
      "18      Married-civ-spouse               Sales         Husband   \n",
      "19                Divorced     Exec-managerial       Unmarried   \n",
      "\n",
      "                   race   gender  capital-gain  capital-loss  hours-per-week  \\\n",
      "0                 White     Male          2174             0              40   \n",
      "1                 White     Male             0             0              13   \n",
      "2                 White     Male             0             0              40   \n",
      "3                 Black     Male             0             0              40   \n",
      "4                 Black   Female             0             0              40   \n",
      "5                 White   Female             0             0              40   \n",
      "6                 Black   Female             0             0              16   \n",
      "7                 White     Male             0             0              45   \n",
      "8                 White   Female         14084             0              50   \n",
      "9                 White     Male          5178             0              40   \n",
      "10                Black     Male             0             0              80   \n",
      "11   Asian-Pac-Islander     Male             0             0              40   \n",
      "12                White   Female             0             0              30   \n",
      "13                Black     Male             0             0              50   \n",
      "14   Asian-Pac-Islander     Male             0             0              40   \n",
      "15   Amer-Indian-Eskimo     Male             0             0              45   \n",
      "16                White     Male             0             0              35   \n",
      "17                White     Male             0             0              40   \n",
      "18                White     Male             0             0              50   \n",
      "19                White   Female             0             0              45   \n",
      "\n",
      "           country  income  \n",
      "0    United-States   <=50K  \n",
      "1    United-States   <=50K  \n",
      "2    United-States   <=50K  \n",
      "3    United-States   <=50K  \n",
      "4             Cuba   <=50K  \n",
      "5    United-States   <=50K  \n",
      "6          Jamaica   <=50K  \n",
      "7    United-States    >50K  \n",
      "8    United-States    >50K  \n",
      "9    United-States    >50K  \n",
      "10   United-States    >50K  \n",
      "11           India    >50K  \n",
      "12   United-States   <=50K  \n",
      "13   United-States   <=50K  \n",
      "14               ?    >50K  \n",
      "15          Mexico   <=50K  \n",
      "16   United-States   <=50K  \n",
      "17   United-States   <=50K  \n",
      "18   United-States   <=50K  \n",
      "19   United-States    >50K   \n",
      "\n"
     ]
    }
   ],
   "source": [
    "df = 'adult.data'\n",
    "columns=['age', 'workclass', 'fnlgwt', 'education', 'educationnum', 'maritalstatus', 'occupation', 'relationship',\n",
    "         'race', 'gender', 'capital-gain', 'capital-loss', 'hours-per-week', 'country', 'income']\n",
    "df = pd.read_csv(df, names = columns)\n",
    "print(\"Printing the first 20 tuples of the adult dataset:\\n\",df.head(20),\"\\n\")\n"
   ]
  },
  {
   "cell_type": "code",
   "execution_count": 7,
   "metadata": {
    "id": "imwh65Dxv8Y8"
   },
   "outputs": [],
   "source": [
    "df.drop('fnlgwt', axis = 1, inplace =True)\n",
    "df.drop('education', axis = 1, inplace =True)"
   ]
  },
  {
   "cell_type": "code",
   "execution_count": null,
   "metadata": {
    "id": "nv2DNx0Mv_eV"
   },
   "outputs": [],
   "source": [
    "from sklearn.preprocessing import LabelEncoder\n",
    "le = LabelEncoder()"
   ]
  },
  {
   "cell_type": "code",
   "execution_count": 11,
   "metadata": {
    "id": "reC2QJvgwC75"
   },
   "outputs": [
    {
     "ename": "NameError",
     "evalue": "name 'le' is not defined",
     "output_type": "error",
     "traceback": [
      "\u001b[1;31m---------------------------------------------------------------------------\u001b[0m",
      "\u001b[1;31mNameError\u001b[0m                                 Traceback (most recent call last)",
      "\u001b[1;32m~\\AppData\\Local\\Temp/ipykernel_11040/3874579915.py\u001b[0m in \u001b[0;36m<module>\u001b[1;34m\u001b[0m\n\u001b[0;32m      1\u001b[0m \u001b[1;32mfor\u001b[0m \u001b[0mcolumns\u001b[0m \u001b[1;32min\u001b[0m \u001b[0mdf\u001b[0m\u001b[1;33m:\u001b[0m\u001b[1;33m\u001b[0m\u001b[1;33m\u001b[0m\u001b[0m\n\u001b[0;32m      2\u001b[0m     \u001b[1;32mif\u001b[0m \u001b[0mdf\u001b[0m\u001b[1;33m[\u001b[0m\u001b[0mcolumns\u001b[0m\u001b[1;33m]\u001b[0m\u001b[1;33m.\u001b[0m\u001b[0mdtypes\u001b[0m \u001b[1;33m==\u001b[0m \u001b[0mobject\u001b[0m\u001b[1;33m:\u001b[0m\u001b[1;33m\u001b[0m\u001b[1;33m\u001b[0m\u001b[0m\n\u001b[1;32m----> 3\u001b[1;33m         \u001b[0mdf\u001b[0m\u001b[1;33m[\u001b[0m\u001b[0mcolumns\u001b[0m\u001b[1;33m]\u001b[0m \u001b[1;33m=\u001b[0m \u001b[0mle\u001b[0m\u001b[1;33m.\u001b[0m\u001b[0mfit_transform\u001b[0m\u001b[1;33m(\u001b[0m\u001b[0mdf\u001b[0m\u001b[1;33m[\u001b[0m\u001b[0mcolumns\u001b[0m\u001b[1;33m]\u001b[0m\u001b[1;33m)\u001b[0m\u001b[1;33m\u001b[0m\u001b[1;33m\u001b[0m\u001b[0m\n\u001b[0m",
      "\u001b[1;31mNameError\u001b[0m: name 'le' is not defined"
     ]
    }
   ],
   "source": [
    "for columns in df:\n",
    "    if df[columns].dtypes == object:\n",
    "        df[columns] = le.fit_transform(df[columns])"
   ]
  },
  {
   "cell_type": "code",
   "execution_count": null,
   "metadata": {
    "id": "07R7PQCguwER"
   },
   "outputs": [],
   "source": [
    "x=adult_data.iloc[:,0:11]\n",
    "y=adult_data['income']\n",
    "print(\"Features:\\n\",x,\"\\n\")\n",
    "print(\"income Labels:\\n\",y,\"\\n\")\n",
    "\n",
    "print(\"Different income labels present in the wine dataset:\",adult_data['income'].unique(),\"\\n\")\n",
    "\n",
    "print(\"Labels counts:\\n\",adult_data.income.value_counts(),\"\\n\")\n",
    "colnames = list(adult_data.columns)\n",
    "print(\"Column names:\\n\",colnames,\"\\n\")"
   ]
  },
  {
   "cell_type": "code",
   "execution_count": null,
   "metadata": {
    "id": "lq8kiaaXvZzi"
   },
   "outputs": [],
   "source": [
    "x_train, x_test,y_train,y_test = train_test_split(x,y,test_size=0.3,random_state=40)\n",
    "print(\"Shape of train and test datasets:\\n\", x_train, x_test, y_train, y_test,\"\\n\")"
   ]
  },
  {
   "cell_type": "code",
   "execution_count": null,
   "metadata": {
    "id": "4YgAjubivqkG"
   },
   "outputs": [],
   "source": [
    "model = DecisionTreeClassifier(criterion = 'entropy', max_depth=3, max_leaf_nodes=7)\n",
    "model.fit(x_train,y_train)"
   ]
  },
  {
   "cell_type": "code",
   "execution_count": null,
   "metadata": {
    "id": "91fSO6vnwLQk"
   },
   "outputs": [],
   "source": [
    "attributes= colnames[:11]\n",
    "income_values=['<=50K','>50K']"
   ]
  },
  {
   "cell_type": "code",
   "execution_count": null,
   "metadata": {
    "colab": {
     "base_uri": "https://localhost:8080/",
     "height": 945
    },
    "id": "aPOJzyzDxLDC",
    "outputId": "e6a80f71-8fb5-4457-9dbd-33e156239fb8"
   },
   "outputs": [],
   "source": [
    "fig, axes = plt.subplots(nrows = 1,ncols = 1,figsize = (5,3), dpi=370)\n",
    "tree.plot_tree(model,\n",
    "               feature_names = attributes,\n",
    "               class_names = income_values,\n",
    "               filled = True)\n",
    "plt.show()"
   ]
  },
  {
   "cell_type": "code",
   "execution_count": null,
   "metadata": {
    "colab": {
     "base_uri": "https://localhost:8080/"
    },
    "id": "lNkQ6k6DxwaI",
    "outputId": "7de68d45-2b1f-4d9c-af0b-d9c1e2f999d6"
   },
   "outputs": [],
   "source": [
    "preds = model.predict(x_test)\n",
    "\n",
    "print(\"Printing income labels test data value counts\\n:\",y_test.value_counts(),\"\\n\")\n",
    "\n",
    "print(\"Classicfication report:\\n\",classification_report(y_test,preds))\n",
    "\n",
    "print(\"Confusion Matrix:\\n\",confusion_matrix(y_test,preds))\n",
    "\n",
    "print(\"\\nAccuracy:\",accuracy_score(y_test,preds))"
   ]
  },
  {
   "cell_type": "markdown",
   "metadata": {
    "id": "PjNB-MUpb3G4"
   },
   "source": []
  }
 ],
 "metadata": {
  "colab": {
   "provenance": []
  },
  "kernelspec": {
   "display_name": "Python 3 (ipykernel)",
   "language": "python",
   "name": "python3"
  },
  "language_info": {
   "codemirror_mode": {
    "name": "ipython",
    "version": 3
   },
   "file_extension": ".py",
   "mimetype": "text/x-python",
   "name": "python",
   "nbconvert_exporter": "python",
   "pygments_lexer": "ipython3",
   "version": "3.9.7"
  }
 },
 "nbformat": 4,
 "nbformat_minor": 1
}
