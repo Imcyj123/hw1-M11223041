{
 "cells": [
  {
   "cell_type": "code",
   "execution_count": 1,
   "id": "53150cb0",
   "metadata": {},
   "outputs": [
    {
     "name": "stdout",
     "output_type": "stream",
     "text": [
      "Requirement already satisfied: rpy2 in c:\\users\\idsl\\anaconda3\\lib\\site-packages (3.5.14)\n",
      "Requirement already satisfied: packaging in c:\\users\\idsl\\anaconda3\\lib\\site-packages (from rpy2) (21.0)\n",
      "Requirement already satisfied: tzlocal in c:\\users\\idsl\\anaconda3\\lib\\site-packages (from rpy2) (5.2)\n",
      "Requirement already satisfied: cffi>=1.10.0 in c:\\users\\idsl\\anaconda3\\lib\\site-packages (from rpy2) (1.14.6)\n",
      "Requirement already satisfied: jinja2 in c:\\users\\idsl\\anaconda3\\lib\\site-packages (from rpy2) (2.11.3)\n",
      "Requirement already satisfied: pycparser in c:\\users\\idsl\\anaconda3\\lib\\site-packages (from cffi>=1.10.0->rpy2) (2.20)\n",
      "Requirement already satisfied: MarkupSafe>=0.23 in c:\\users\\idsl\\anaconda3\\lib\\site-packages (from jinja2->rpy2) (1.1.1)\n",
      "Requirement already satisfied: pyparsing>=2.0.2 in c:\\users\\idsl\\anaconda3\\lib\\site-packages (from packaging->rpy2) (3.0.4)\n",
      "Requirement already satisfied: tzdata in c:\\users\\idsl\\anaconda3\\lib\\site-packages (from tzlocal->rpy2) (2023.3)\n"
     ]
    },
    {
     "name": "stderr",
     "output_type": "stream",
     "text": [
      "WARNING: Ignoring invalid distribution -umpy (c:\\users\\idsl\\anaconda3\\lib\\site-packages)\n",
      "WARNING: Ignoring invalid distribution -python (c:\\users\\idsl\\anaconda3\\lib\\site-packages)\n",
      "WARNING: Ignoring invalid distribution -umpy (c:\\users\\idsl\\anaconda3\\lib\\site-packages)\n",
      "WARNING: Ignoring invalid distribution -python (c:\\users\\idsl\\anaconda3\\lib\\site-packages)\n",
      "WARNING: Ignoring invalid distribution -umpy (c:\\users\\idsl\\anaconda3\\lib\\site-packages)\n",
      "WARNING: Ignoring invalid distribution -python (c:\\users\\idsl\\anaconda3\\lib\\site-packages)\n",
      "WARNING: Ignoring invalid distribution -umpy (c:\\users\\idsl\\anaconda3\\lib\\site-packages)\n",
      "WARNING: Ignoring invalid distribution -python (c:\\users\\idsl\\anaconda3\\lib\\site-packages)\n",
      "WARNING: Ignoring invalid distribution -umpy (c:\\users\\idsl\\anaconda3\\lib\\site-packages)\n",
      "WARNING: Ignoring invalid distribution -python (c:\\users\\idsl\\anaconda3\\lib\\site-packages)\n",
      "WARNING: Ignoring invalid distribution -umpy (c:\\users\\idsl\\anaconda3\\lib\\site-packages)\n",
      "WARNING: Ignoring invalid distribution -python (c:\\users\\idsl\\anaconda3\\lib\\site-packages)\n"
     ]
    }
   ],
   "source": [
    "!pip install rpy2"
   ]
  },
  {
   "cell_type": "code",
   "execution_count": null,
   "id": "f4bc40ab",
   "metadata": {},
   "outputs": [],
   "source": [
    "import rpy2\n",
    "from rpy2 import robjects"
   ]
  },
  {
   "cell_type": "code",
   "execution_count": null,
   "id": "29e61d5d",
   "metadata": {},
   "outputs": [],
   "source": [
    "robjects.r('''R.Version()''')"
   ]
  },
  {
   "cell_type": "code",
   "execution_count": null,
   "id": "6cb77c5c",
   "metadata": {},
   "outputs": [],
   "source": []
  }
 ],
 "metadata": {
  "kernelspec": {
   "display_name": "Python 3 (ipykernel)",
   "language": "python",
   "name": "python3"
  },
  "language_info": {
   "codemirror_mode": {
    "name": "ipython",
    "version": 3
   },
   "file_extension": ".py",
   "mimetype": "text/x-python",
   "name": "python",
   "nbconvert_exporter": "python",
   "pygments_lexer": "ipython3",
   "version": "3.9.7"
  }
 },
 "nbformat": 4,
 "nbformat_minor": 5
}
